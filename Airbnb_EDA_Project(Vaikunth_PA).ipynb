{
  "nbformat": 4,
  "nbformat_minor": 0,
  "metadata": {
    "colab": {
      "private_outputs": true,
      "provenance": [],
      "collapsed_sections": [
        "beRrZCGUAJYm",
        "mDgbUHAGgjLW",
        "gIfDvo9L0UH2"
      ],
      "include_colab_link": true
    },
    "kernelspec": {
      "name": "python3",
      "display_name": "Python 3"
    },
    "language_info": {
      "name": "python"
    }
  },
  "cells": [
    {
      "cell_type": "markdown",
      "metadata": {
        "id": "view-in-github",
        "colab_type": "text"
      },
      "source": [
        "<a href=\"https://colab.research.google.com/github/Vaikunth97/vaik/blob/main/Airbnb_EDA_Project(Vaikunth_PA).ipynb\" target=\"_parent\"><img src=\"https://colab.research.google.com/assets/colab-badge.svg\" alt=\"Open In Colab\"/></a>"
      ]
    },
    {
      "cell_type": "markdown",
      "source": [
        "# **Project Name**    -  **Airbnb Booking Analysis**\n",
        "\n"
      ],
      "metadata": {
        "id": "vncDsAP0Gaoa"
      }
    },
    {
      "cell_type": "markdown",
      "source": [
        "##### **Project Type**    - EDA\n",
        "##### **Contribution**    - Individual\n"
      ],
      "metadata": {
        "id": "beRrZCGUAJYm"
      }
    },
    {
      "cell_type": "markdown",
      "source": [
        "# **Problem Statement**\n"
      ],
      "metadata": {
        "id": "yQaldy8SH6Dl"
      }
    },
    {
      "cell_type": "markdown",
      "source": [
        "**BUSINESS PROBLEM OVERVIEW**\n",
        "\n",
        "\n",
        "Since 2008, guests and hosts have used Airbnb to expand on travelling possibilities and present a more unique, personalised way of experiencing the world. Today, Airbnb became one of a kind service that is used and recognized by the whole world. Data analysis on millions of listings provided through Airbnb is a crucial factor for the company. These millions of listings generate a lot of data - data that can be analysed and used for security, business decisions, understanding of customers' and providers' (hosts) behaviour and performance on the platform, guiding marketing initiatives, implementation of innovative additional services and much more. This dataset has around 49,000 observations in it with 16 columns and it is a mix of categorical and numeric values. Explore and analyse the data to discover key understandings."
      ],
      "metadata": {
        "id": "DpeJGUA3kjGy"
      }
    },
    {
      "cell_type": "markdown",
      "source": [
        "#### **Define Your Business Objective?**"
      ],
      "metadata": {
        "id": "PH-0ReGfmX4f"
      }
    },
    {
      "cell_type": "markdown",
      "source": [
        "***Explore and analyse data to discover key understandings***"
      ],
      "metadata": {
        "id": "PhDvGCAqmjP1"
      }
    },
    {
      "cell_type": "markdown",
      "source": [
        "# **General Guidelines** : -  "
      ],
      "metadata": {
        "id": "mDgbUHAGgjLW"
      }
    },
    {
      "cell_type": "markdown",
      "source": [
        "1.   Well-structured, formatted, and commented code is required.\n",
        "2.   Exception Handling, Production Grade Code & Deployment Ready Code will be a plus. Those students will be awarded some additional credits.\n",
        "     \n",
        "     The additional credits will have advantages over other students during Star Student selection.\n",
        "       \n",
        "             [ Note: - Deployment Ready Code is defined as, the whole .ipynb notebook should be executable in one go\n",
        "                       without a single error logged. ]\n",
        "\n",
        "3.   Each and every logic should have proper comments.\n",
        "4. You may add as many number of charts you want. Make Sure for each and every chart the following format should be answered.\n",
        "        \n",
        "\n",
        "```\n",
        "# Chart visualization code\n",
        "```\n",
        "            \n",
        "\n",
        "*   Why did you pick the specific chart?\n",
        "*   What is/are the insight(s) found from the chart?\n",
        "* Will the gained insights help creating a positive business impact?\n",
        "Are there any insights that lead to negative growth? Justify with specific reason.\n",
        "\n",
        "\n",
        "5. You have to create at least 20 logical & meaningful charts having important insights.\n",
        "\n",
        "[ Hints : - Do the Vizualization in  a structured way while following \"UBM\" Rule.\n",
        "\n",
        "U - Univariate Analysis,\n",
        "\n",
        "B - Bivariate Analysis (Numerical - Categorical, Numerical - Numerical, Categorical - Categorical)\n",
        "\n",
        "M - Multivariate Analysis\n",
        " ]\n",
        "\n",
        "\n",
        "\n",
        "\n",
        "\n"
      ],
      "metadata": {
        "id": "ZrxVaUj-hHfC"
      }
    },
    {
      "cell_type": "markdown",
      "source": [
        "# ***Let's Begin !***"
      ],
      "metadata": {
        "id": "O_i_v8NEhb9l"
      }
    },
    {
      "cell_type": "markdown",
      "source": [
        "## ***1. Know Your Data***"
      ],
      "metadata": {
        "id": "HhfV-JJviCcP"
      }
    },
    {
      "cell_type": "markdown",
      "source": [
        "### Import Libraries"
      ],
      "metadata": {
        "id": "Y3lxredqlCYt"
      }
    },
    {
      "cell_type": "code",
      "source": [
        "# Import Libraries\n",
        "import numpy as np\n",
        "import pandas as pd\n",
        "import seaborn as sns\n",
        "import matplotlib.pyplot as plt\n"
      ],
      "metadata": {
        "id": "M8Vqi-pPk-HR"
      },
      "execution_count": null,
      "outputs": []
    },
    {
      "cell_type": "markdown",
      "source": [
        "### Dataset Loading"
      ],
      "metadata": {
        "id": "3RnN4peoiCZX"
      }
    },
    {
      "cell_type": "code",
      "source": [
        "from google.colab import drive\n",
        "drive.mount('/content/drive')"
      ],
      "metadata": {
        "id": "lOyi2ft6scK4"
      },
      "execution_count": null,
      "outputs": []
    },
    {
      "cell_type": "code",
      "source": [
        "file_path=\"/content/drive/My Drive/Alma better Projects/Module 2/Capstone project/Airbnb_NYC_2019.csv\"# filepath for dataset\n",
        "airbnb_dataframe= pd.read_csv(file_path)#defining the dataframe\n",
        "print(airbnb_dataframe) #printing the dataframe"
      ],
      "metadata": {
        "id": "4CkvbW_SlZ_R"
      },
      "execution_count": null,
      "outputs": []
    },
    {
      "cell_type": "markdown",
      "source": [
        "### Dataset First View"
      ],
      "metadata": {
        "id": "x71ZqKXriCWQ"
      }
    },
    {
      "cell_type": "code",
      "source": [
        "# Dataset First 5 rows\n",
        "airbnb_dataframe.head()"
      ],
      "metadata": {
        "id": "LWNFOSvLl09H"
      },
      "execution_count": null,
      "outputs": []
    },
    {
      "cell_type": "code",
      "source": [
        "#dataset last 5 rows\n",
        "airbnb_dataframe.tail()"
      ],
      "metadata": {
        "id": "zjKBa4zj38Fi"
      },
      "execution_count": null,
      "outputs": []
    },
    {
      "cell_type": "markdown",
      "source": [
        "### Dataset Rows & Columns count"
      ],
      "metadata": {
        "id": "7hBIi_osiCS2"
      }
    },
    {
      "cell_type": "code",
      "source": [
        "# Dataset Rows & Columns\n",
        "airbnb_dataframe.shape"
      ],
      "metadata": {
        "id": "Kllu7SJgmLij"
      },
      "execution_count": null,
      "outputs": []
    },
    {
      "cell_type": "markdown",
      "source": [
        "### Dataset Information"
      ],
      "metadata": {
        "id": "JlHwYmJAmNHm"
      }
    },
    {
      "cell_type": "code",
      "source": [
        "# Dataset Info\n",
        "airbnb_dataframe.info()"
      ],
      "metadata": {
        "id": "e9hRXRi6meOf"
      },
      "execution_count": null,
      "outputs": []
    },
    {
      "cell_type": "markdown",
      "source": [
        "#### Duplicate Values"
      ],
      "metadata": {
        "id": "35m5QtbWiB9F"
      }
    },
    {
      "cell_type": "code",
      "source": [
        "# Dataset Duplicate Value Count\n",
        "len(airbnb_dataframe[airbnb_dataframe.duplicated()])"
      ],
      "metadata": {
        "id": "1sLdpKYkmox0"
      },
      "execution_count": null,
      "outputs": []
    },
    {
      "cell_type": "markdown",
      "source": [
        "#### Missing Values/Null Values"
      ],
      "metadata": {
        "id": "PoPl-ycgm1ru"
      }
    },
    {
      "cell_type": "code",
      "source": [
        "# Missing Values/Null Values Count\n",
        "print(airbnb_dataframe.isnull().sum())"
      ],
      "metadata": {
        "id": "GgHWkxvamxVg"
      },
      "execution_count": null,
      "outputs": []
    },
    {
      "cell_type": "code",
      "source": [
        "# Visualizing the missing values\n",
        "# Checking Null Value by plotting Heatmap\n",
        "sns.heatmap(airbnb_dataframe.isnull(), cbar=False)"
      ],
      "metadata": {
        "id": "3q5wnI3om9sJ"
      },
      "execution_count": null,
      "outputs": []
    },
    {
      "cell_type": "markdown",
      "source": [
        "### What did you know about your dataset?"
      ],
      "metadata": {
        "id": "H0kj-8xxnORC"
      }
    },
    {
      "cell_type": "markdown",
      "source": [
        "The dataset given is a dataset from Airbnb hotel booking data, and we have to analyse the data's and the insights behind it.\n",
        "\n",
        "The above dataset has 48895 rows and 16 columns. There are many mising values and no duplicate values in the dataset."
      ],
      "metadata": {
        "id": "gfoNAAC-nUe_"
      }
    },
    {
      "cell_type": "markdown",
      "source": [
        "## ***2. Understanding Your Variables***"
      ],
      "metadata": {
        "id": "nA9Y7ga8ng1Z"
      }
    },
    {
      "cell_type": "code",
      "source": [
        "# Dataset Columns\n",
        "airbnb_dataframe.columns"
      ],
      "metadata": {
        "id": "n87BaXA_42-R"
      },
      "execution_count": null,
      "outputs": []
    },
    {
      "cell_type": "code",
      "source": [
        "# Dataset Describe\n",
        "airbnb_dataframe.describe(include='all')"
      ],
      "metadata": {
        "id": "DnOaZdaE5Q5t"
      },
      "execution_count": null,
      "outputs": []
    },
    {
      "cell_type": "markdown",
      "source": [
        "### Variables Description"
      ],
      "metadata": {
        "id": "PBTbrJXOngz2"
      }
    },
    {
      "cell_type": "markdown",
      "source": [
        "* **id                :**Unique id\n",
        "\n",
        "* **name       :**Name of the listing\n",
        "\n",
        "* **host_id           :**Unique host id\n",
        "\n",
        "* **host_name            :**Name of the host\n",
        "\n",
        "* **neighbourhood_group           :**  location\n",
        "\n",
        "* **neighbourhood        :**Area\n",
        "\n",
        "* **latitude             :**Latitude range\n",
        "\n",
        "* **longitude**         :lobgitude range\n",
        "\n",
        "* **room_type**         :Type of listing\n",
        "\n",
        "* **price**          :Price of the listing\n",
        "\n",
        "* **minimum_nights**\t:Minimum nights to be paid for\n",
        "\n",
        "* **Number_of_reviews**\t:Number of reviews\n",
        "\n",
        "* **last_review** :\tContent of the last review\n",
        "\n",
        "* **reeviews_per_month** :\tNumber of checks per month\n",
        "\n",
        "* **calculated_host_listing_count** :\tTotal count\n",
        "\n",
        "* **availability_365** :\tAvailability around the year\n"
      ],
      "metadata": {
        "id": "aJV4KIxSnxay"
      }
    },
    {
      "cell_type": "markdown",
      "source": [
        "### Check Unique Values for each variable."
      ],
      "metadata": {
        "id": "u3PMJOP6ngxN"
      }
    },
    {
      "cell_type": "code",
      "source": [
        "# Check Unique Values for each variable.\n",
        "for i in airbnb_dataframe.columns.tolist():\n",
        "  print(\"No. of unique values in \",i,\"is\",airbnb_dataframe[i].nunique(),\".\")"
      ],
      "metadata": {
        "id": "zms12Yq5n-jE"
      },
      "execution_count": null,
      "outputs": []
    },
    {
      "cell_type": "markdown",
      "source": [
        "## 3. ***Data Wrangling***"
      ],
      "metadata": {
        "id": "dauF4eBmngu3"
      }
    },
    {
      "cell_type": "markdown",
      "source": [
        "### Data Wrangling Code"
      ],
      "metadata": {
        "id": "bKJF3rekwFvQ"
      }
    },
    {
      "cell_type": "markdown",
      "source": [
        "Dropping columns with no data"
      ],
      "metadata": {
        "id": "q7eWY1jewohu"
      }
    },
    {
      "cell_type": "code",
      "source": [
        "#dropping columns for handling null values\n",
        "airbnb_dataframe.drop(['name', 'host_name', 'last_review', 'reviews_per_month'], axis=1, inplace=True)"
      ],
      "metadata": {
        "id": "T88iRCIGlltZ"
      },
      "execution_count": null,
      "outputs": []
    },
    {
      "cell_type": "code",
      "source": [
        "# Checking Null Value drop activity by plotting Heatmap\n",
        "sns.heatmap(airbnb_dataframe.isnull(), cbar=False)"
      ],
      "metadata": {
        "id": "gB1kIeYdlwxh"
      },
      "execution_count": null,
      "outputs": []
    },
    {
      "cell_type": "markdown",
      "source": [
        "## ***4. Data Vizualization, Storytelling & Experimenting with charts : Understand the relationships between variables***"
      ],
      "metadata": {
        "id": "GF8Ens_Soomf"
      }
    },
    {
      "cell_type": "markdown",
      "source": [
        "#### Univarient charts\n"
      ],
      "metadata": {
        "id": "0wOQAZs5pc--"
      }
    },
    {
      "cell_type": "code",
      "source": [
        "# Chart - 1 Bar chart for room type distribution\n",
        "plt.figure(figsize=(10,5))\n",
        "airbnb_dataframe['room_type'].value_counts().plot(kind='bar', color='green' )\n",
        "plt.title(\"Room Type Distribution\")\n",
        "plt.xlabel(\"Room Type\")\n",
        "plt.ylabel(\"Count\")\n",
        "plt.show()"
      ],
      "metadata": {
        "id": "7v_ESjsspbW7"
      },
      "execution_count": null,
      "outputs": []
    },
    {
      "cell_type": "markdown",
      "source": [
        "**Key Insights from Room Type Distribution Chart**:\n",
        "\n",
        "* Entire homes/apartments are the most common listings, followed by private rooms.\n",
        "\n",
        "* Shared rooms make up a very small percentage, indicating lower demand or availability.\n",
        "\n",
        "* The high number of entire homes suggests Airbnb is used for full-property rentals rather than shared stays."
      ],
      "metadata": {
        "id": "yn_JkfYpc4-9"
      }
    },
    {
      "cell_type": "code",
      "source": [
        "#chart2 barchart for neighbourhood group distribution\n",
        "plt.figure(figsize=(10,5))\n",
        "airbnb_dataframe['neighbourhood_group'].value_counts().plot(kind='bar', color='green' )\n",
        "plt.title(\"Neighbourhood Group Distribution\")\n",
        "plt.xlabel(\"Neighbourhood Group\")\n",
        "plt.ylabel(\"Count\")\n",
        "plt.show()\n"
      ],
      "metadata": {
        "id": "jQY2gw65m7Pk"
      },
      "execution_count": null,
      "outputs": []
    },
    {
      "cell_type": "markdown",
      "source": [
        "**Key Insights from Neighbourhood Group Distribution Chart**:\n",
        "* Manhattan and Brooklyn dominate the Airbnb market, accounting for the majority of listings.\n",
        "* Queens has a moderate number of listings, while Bronx and Staten Island have significantly fewer.\n",
        "* The low number of listings in Bronx & Staten Island may indicate lower tourist demand or fewer short-term rental properties."
      ],
      "metadata": {
        "id": "BfZG1VQ-dQiX"
      }
    },
    {
      "cell_type": "code",
      "source": [
        "#chart 3 bar chart for neighbourhood distribution\n",
        "plt.figure(figsize=(30,5))\n",
        "airbnb_dataframe['neighbourhood'].value_counts().plot(kind='bar', color='green' )\n",
        "plt.title(\"Neighbourhood Distribution\")\n",
        "plt.xlabel(\"Neighbourhood\")\n",
        "plt.ylabel(\"Count\")\n",
        "plt.show()"
      ],
      "metadata": {
        "id": "7UZEI2zIz3--"
      },
      "execution_count": null,
      "outputs": []
    },
    {
      "cell_type": "markdown",
      "source": [
        "Key Insights from Neighbourhood Distribution Chart:\n",
        "\n",
        "* Williamsburg, Bedford-Stuyvesant, and Harlem have the highest number of Airbnb listings.\n",
        "\n",
        "* Most listings are concentrated in a few key neighborhoods, with a long tail of areas having fewer listings.\n",
        "\n",
        "* Many neighborhoods have minimal listings, indicating lower demand or fewer rental properties."
      ],
      "metadata": {
        "id": "NrX6Sgahdfww"
      }
    },
    {
      "cell_type": "code",
      "source": [
        "#chart 4 histplot for availability across stays\n",
        "plt.figure(figsize=(20,5))\n",
        "sns.histplot(airbnb_dataframe['availability_365'],bins=50, kde=True, color='green' )\n",
        "plt.title(\"Availability Distribution\")\n",
        "plt.xlabel(\"Availability\")\n",
        "plt.ylabel(\"Count\")\n",
        "plt.show()"
      ],
      "metadata": {
        "id": "5niPF7db0deH"
      },
      "execution_count": null,
      "outputs": []
    },
    {
      "cell_type": "markdown",
      "source": [
        "**Key Insights from Availability Distribution Chart**:\n",
        "* Most listings have very low availability (0–10 days/year), suggesting many inactive or rarely rented properties.\n",
        "* A smaller peak near 365 days indicates a subset of listings available year-round, likely from full-time hosts.\n",
        "* Gradual decline between 50-300 days suggests varied listing strategies, with some properties available seasonally."
      ],
      "metadata": {
        "id": "KC8BJIE6duvu"
      }
    },
    {
      "cell_type": "code",
      "source": [
        "#chart 5 histplot for price distribution across stays\n",
        "plt.figure(figsize=(10, 5))\n",
        "sns.histplot(airbnb_dataframe['price'], bins=50, color= 'green',kde=True)\n",
        "plt.title(\"Price Distribution\")\n",
        "plt.show()\n"
      ],
      "metadata": {
        "id": "VOP7JlXLneks"
      },
      "execution_count": null,
      "outputs": []
    },
    {
      "cell_type": "markdown",
      "source": [
        "* Highly Right-Skewed Distribution: Most listings are priced under $500.\n",
        "\n",
        "* Majority of listings are concentrated under $200, indicating budget to mid-range accommodations dominate the market.\n",
        "\n",
        "* Few luxury listings exist at very high prices ($2000+), which distort the average price."
      ],
      "metadata": {
        "id": "cmQWkY_dd5Jx"
      }
    },
    {
      "cell_type": "markdown",
      "source": [
        "###   Bi-varient charts"
      ],
      "metadata": {
        "id": "TOhBqcDxE93I"
      }
    },
    {
      "cell_type": "code",
      "source": [
        "# chart1 scatterplot for listings by location\n",
        "plt.figure(figsize=(8, 5))\n",
        "sns.scatterplot(x=airbnb_dataframe['longitude'], y=airbnb_dataframe['latitude'], hue=airbnb_dataframe['neighbourhood_group'])\n",
        "plt.title(\"Airbnb Listings by Location\")\n",
        "plt.show()\n",
        "#chart2 scatterplot for listings by room type\n",
        "plt.figure(figsize=(8, 5))\n",
        "sns.scatterplot(x=airbnb_dataframe['longitude'], y=airbnb_dataframe['latitude'], hue=airbnb_dataframe['room_type'])\n",
        "plt.title(\"Airbnb Listings room type across locations\")\n",
        "plt.show()\n",
        "\n"
      ],
      "metadata": {
        "id": "W4loYMnM5lza"
      },
      "execution_count": null,
      "outputs": []
    },
    {
      "cell_type": "markdown",
      "source": [
        "**Key Insights from Airbnb Listings Location Analysis**:\n",
        "* Manhattan and Brooklyn have the highest listing density, while Bronx and Staten Island have significantly fewer rentals.\n",
        "* Entire homes/apartments dominate most areas, especially in Brooklyn and Manhattan, whereas private rooms are scattered throughout the city.\n",
        "* Shared rooms are rare, with minimal presence across all boroughs."
      ],
      "metadata": {
        "id": "07_vvppfeWYV"
      }
    },
    {
      "cell_type": "code",
      "source": [
        "#chart3 real time map locations of the listings\n",
        "import folium\n",
        "\n",
        "m = folium.Map(location=[airbnb_dataframe['latitude'].mean(), airbnb_dataframe['longitude'].mean()], zoom_start=12)\n",
        "for index, row in airbnb_dataframe.iterrows():\n",
        "    folium.CircleMarker([row['latitude'], row['longitude']], radius=2, color='blue').add_to(m)\n",
        "\n",
        "m  # Displays map in Jupyter Notebook\n"
      ],
      "metadata": {
        "id": "zVHPKv54onqz"
      },
      "execution_count": null,
      "outputs": []
    },
    {
      "cell_type": "code",
      "source": [
        "#chart4 boxplot for price distribution\n",
        "plt.figure(figsize=(10, 10))\n",
        "sns.boxplot(x=airbnb_dataframe['room_type'], y=airbnb_dataframe['price'], color='green')\n",
        "plt.xlabel(\"Room Type\")\n",
        "plt.ylabel(\"Price\")\n",
        "plt.ylim(0, 400)\n",
        "q1 = airbnb_dataframe['price'].quantile(0.25)\n",
        "q3 = airbnb_dataframe['price'].quantile(0.75)\n",
        "iqr = q3 - q1\n",
        "lower_bound = q1 - 1.5 * iqr\n",
        "upper_bound = q3 + 1.5 * iqr\n",
        "airbnb_dataframe = airbnb_dataframe[(airbnb_dataframe['price'] >= lower_bound) & (airbnb_dataframe['price'] <= upper_bound)]\n",
        "plt.title(\"Price Variation Across Room Types\")\n",
        "plt.show()\n",
        "\n"
      ],
      "metadata": {
        "id": "hk_GWWzNn1lQ"
      },
      "execution_count": null,
      "outputs": []
    },
    {
      "cell_type": "markdown",
      "source": [
        "**Key Insights from Price Variation Across Room Types**:\n",
        "* Entire homes/apartments have the highest median price.\n",
        "Private rooms are mid-priced, but have many high-price outliers.\n",
        "* Shared rooms are the cheapest, but some high-price outliers exist."
      ],
      "metadata": {
        "id": "mjw_NXroe8Y7"
      }
    },
    {
      "cell_type": "code",
      "source": [
        "# chart5 violinplot for price distribution across neighbourhood groups\n",
        "plt.figure(figsize=(10, 5))\n",
        "sns.violinplot(x=airbnb_dataframe['neighbourhood_group'], y=airbnb_dataframe['price'], color='green')\n",
        "plt.xlabel(\"Location\")\n",
        "plt.ylabel(\"Price\")\n",
        "plt.ylim(0, 400)\n",
        "q1 = airbnb_dataframe['price'].quantile(0.25)\n",
        "q3 = airbnb_dataframe['price'].quantile(0.75)\n",
        "iqr = q3 - q1\n",
        "lower_bound = q1 - 1.5 * iqr\n",
        "upper_bound = q3 + 1.5 * iqr\n",
        "airbnb_dataframe = airbnb_dataframe[(airbnb_dataframe['price'] >= lower_bound) & (airbnb_dataframe['price'] <= upper_bound)]\n",
        "plt.title(\"Price Variation Across neighbourhood group\")\n",
        "plt.show()\n"
      ],
      "metadata": {
        "id": "MxOvAWhL6MhY"
      },
      "execution_count": null,
      "outputs": []
    },
    {
      "cell_type": "markdown",
      "source": [
        "**Key Insights from Price Variation Across Neighborhood Groups**:\n",
        "* Manhattan has the highest price range, brooklyn follows next with a slightly lower median price than Manhattan.\n",
        "* Queens, Bronx, and Staten Island have lower overall prices.\n",
        "* All boroughs show a long tail of high-priced outliers, indicating the presence of luxury listings."
      ],
      "metadata": {
        "id": "56X1EMnTfPFR"
      }
    },
    {
      "cell_type": "code",
      "source": [
        "#chart6 boxplot for price distribution across room types\n",
        "plt.figure(figsize=(10, 5))\n",
        "sns.boxplot(x=airbnb_dataframe['room_type'], y=airbnb_dataframe['price'],hue= airbnb_dataframe['neighbourhood_group'])\n",
        "plt.xlabel(\"Room type\")\n",
        "plt.ylabel(\"Price\")\n",
        "plt.ylim(0, 400)\n",
        "plt.title(\"Price Variation Across Room Types\")\n",
        "plt.show()\n"
      ],
      "metadata": {
        "id": "dhUDwa37H2s3"
      },
      "execution_count": null,
      "outputs": []
    },
    {
      "cell_type": "markdown",
      "source": [
        "**Key Insights from Price Variation Across Room Types & Neighborhoods**:\n",
        "\n",
        "* Manhattan has the highest prices across all room types, especially for entire homes/apartments.\n",
        "* Brooklyn follows with slightly lower prices, but still has a wide range of listings.\n",
        "* Queens, Bronx, and Staten Island have lower median prices, with Staten Island showing more variability.\n",
        "* Outliers exist in all boroughs, especially for private and shared rooms in Manhattan and Brooklyn."
      ],
      "metadata": {
        "id": "T80DICCjfU31"
      }
    },
    {
      "cell_type": "code",
      "source": [
        "#chart7 scatterplot for price variation vs reviews\n",
        "plt.figure(figsize=(10, 5))\n",
        "sns.scatterplot(x=airbnb_dataframe['number_of_reviews'], y=airbnb_dataframe['price'],hue= airbnb_dataframe['room_type'])\n",
        "plt.xlabel(\"Reviews\")\n",
        "plt.ylabel(\"Price\")\n",
        "plt.ylim(0, 400)\n",
        "plt.title(\"Price Variation vs reviews\")\n",
        "plt.show()\n"
      ],
      "metadata": {
        "id": "H0FmQtEz7dHT"
      },
      "execution_count": null,
      "outputs": []
    },
    {
      "cell_type": "markdown",
      "source": [
        "**Key Insights from Price vs. Reviews Across Room Types**:\n",
        "* Lower-priced listing tend to have the highest number of reviews & High-priced listings generally have fewer reviews, suggesting occupancy changes against pricing.\n",
        "\n",
        "* Private rooms and shared rooms dominate the lower price range, while entire homes/apartments are spread across all price levels.\n",
        "\n",
        "* Some budget listings with high reviews indicate strong customer preference for affordable stays."
      ],
      "metadata": {
        "id": "nlX5zTXyfgNS"
      }
    },
    {
      "cell_type": "code",
      "source": [
        "#chart8 boxplot room availability vs room type\n",
        "plt.figure(figsize=(10, 5))\n",
        "sns.boxplot(x=airbnb_dataframe['room_type'], y=airbnb_dataframe['availability_365'],hue= airbnb_dataframe['neighbourhood_group'])\n",
        "plt.xlabel(\"Room type\")\n",
        "plt.ylabel(\"Room availability\")\n",
        "plt.ylim(0, 400)\n",
        "plt.title(\"Room availability across Room Types\")\n",
        "plt.show()\n"
      ],
      "metadata": {
        "id": "QwRqgsZxWH0J"
      },
      "execution_count": null,
      "outputs": []
    },
    {
      "cell_type": "markdown",
      "source": [
        "**Key Insights from Room Availability Chart**:\n",
        "\n",
        "* Shared rooms have the highest availability, especially in Queens and Brooklyn.\n",
        "* Private and entire homes show higher variation, with Manhattan & Brooklyn having lower median availability.\n",
        "* Outliers in shared rooms suggest some listings are available year-round."
      ],
      "metadata": {
        "id": "foLbpY4HbzdI"
      }
    },
    {
      "cell_type": "code",
      "source": [
        "#chart9 scatterplot for Price Variation vs availabilty across Room Types\n",
        "plt.figure(figsize=(10, 5))\n",
        "sns.scatterplot(x=airbnb_dataframe['price'], y=airbnb_dataframe['availability_365'],hue= airbnb_dataframe['room_type']) # Corrected the column name to 'availability_365'\n",
        "plt.xlabel(\"price\")\n",
        "plt.ylabel(\"availability\")\n",
        "plt.ylim(0, 400)\n",
        "plt.title(\"Price Variation vs availabilty across Room Types\")\n",
        "plt.show()"
      ],
      "metadata": {
        "id": "3QOvrx0OZnSE"
      },
      "execution_count": null,
      "outputs": []
    },
    {
      "cell_type": "markdown",
      "source": [
        "**Key Insights from Price vs. Availability Across Room Types Chart**:\n",
        "\n",
        "* Lower-priced listings have the highest availability, mostly private and shared rooms.\n",
        "\n",
        "* Entire homes/apartments dominate higher price ranges, with varied availability.\n",
        "\n",
        "* No strong pattern between price and availability.\n",
        "\n",
        "* High-priced listings tend to have limited availability."
      ],
      "metadata": {
        "id": "EXuVGu9icW_6"
      }
    },
    {
      "cell_type": "code",
      "source": [
        "airbnb_dataframe.groupby(['neighbourhood_group','room_type'])['price'].mean() #mean pricing for room type across neighbourhood"
      ],
      "metadata": {
        "id": "O18lom-Z9k3T"
      },
      "execution_count": null,
      "outputs": []
    },
    {
      "cell_type": "markdown",
      "source": [
        "**Insights**:\n",
        "\n",
        "* Manhattan is the most expensive among the neighbourhood groups.\n",
        "\n",
        "* Brooklyn & Staten Island have mid-range entire home prices, while private rooms are cheaper.\n",
        "\n",
        "* Queens & Bronx offer budget-friendly stays for entire homes and private rooms.\n",
        "\n",
        "* Shared rooms are the cheapest in all boroughs, with Manhattan still being the priciest of them."
      ],
      "metadata": {
        "id": "3JzxMzj0CAt7"
      }
    },
    {
      "cell_type": "markdown",
      "source": [
        "###Co-rrelation"
      ],
      "metadata": {
        "id": "eLXxk4NmF156"
      }
    },
    {
      "cell_type": "code",
      "source": [
        "airbnb_dataframe.copy()#copy of main dataframe\n",
        "airbnb_dataframe.drop(['host_id', 'neighbourhood','latitude', 'longitude'], axis=1, inplace=True)#dropping for co-relation heatmap"
      ],
      "metadata": {
        "id": "1UtR7zJN-vH0"
      },
      "execution_count": null,
      "outputs": []
    },
    {
      "cell_type": "code",
      "source": [
        "# Select only numerical features for correlation analysis\n",
        "numerical_features = airbnb_dataframe.select_dtypes(include=np.number)\n",
        "\n",
        "# Calculate the correlation matrix for numerical features\n",
        "correlation_matrix = numerical_features.corr()\n",
        "\n",
        "sns.heatmap(correlation_matrix, annot=True, cmap='coolwarm')\n",
        "plt.title(\"Correlation Heatmap\")\n",
        "plt.show()\n"
      ],
      "metadata": {
        "id": "ka6fBvwE-H-1"
      },
      "execution_count": null,
      "outputs": []
    },
    {
      "cell_type": "markdown",
      "source": [
        "**Key Insights from the Correlation Heatmap**:\n",
        "* Price has weak correlations with all other features (highest being 0.16 with calculated_host_listings_count).\n",
        "*Negative Correlation Between number_of_reviews and id (-0.32)\n",
        "*A moderate negative correlation implies that newer listings (higher id values) tend to have fewer reviews.\n",
        "*There is a weak positive correlation between availability_365 and calculated_host_listings_count.\n",
        "*minimum_nights Has Almost No Correlation with Other Features:\n"
      ],
      "metadata": {
        "id": "4Ku4o8n9ATS6"
      }
    },
    {
      "cell_type": "markdown",
      "source": [
        "## **5. Solution to Business Objective**"
      ],
      "metadata": {
        "id": "JcMwzZxoAimU"
      }
    },
    {
      "cell_type": "markdown",
      "source": [
        "#### What do you suggest the client to achieve Business Objective ?\n",
        "Explain Briefly."
      ],
      "metadata": {
        "id": "8G2x9gOozGDZ"
      }
    },
    {
      "cell_type": "markdown",
      "source": [
        "**Optimize Pricing**\n",
        "* Implement dynamic pricing based on demand and seasonality.\n",
        "\n",
        "* Reduce prices of listings with few reviews and offer long-stay discounts.\n",
        "\n",
        "**Luxury Properties**\n",
        "* Enhance visibility through premium branding and marketing.\n",
        "\n",
        "* Adjust pricing based on demand and seasonal trends.\n",
        "\n",
        "**New Hosts and Underrepresented Areas**\n",
        "\n",
        "* Encourage new hosts in low-competition areas with attractive pricing.\n",
        "\n",
        "* Offer incentives for hosts in underrepresented neighborhoods.\n",
        "\n",
        "* Promote budget-friendly options in Queens & Bronx.\n",
        "\n",
        "**Host Engagement**\n",
        "* Improve host engagement for better guest experiences.\n",
        "\n",
        "* Promote high-review properties and increase availability."
      ],
      "metadata": {
        "id": "pASKb0qOza21"
      }
    },
    {
      "cell_type": "markdown",
      "source": [
        "# **Conclusion**"
      ],
      "metadata": {
        "id": "gCX9965dhzqZ"
      }
    },
    {
      "cell_type": "markdown",
      "source": [
        "**Market Dominance**:\n",
        "\n",
        "* Manhattan and Brooklyn have the highest number of listings.\n",
        "\n",
        "* Queens follows, with fewer in Staten Island and the Bronx.\n",
        "\n",
        "**Pricing Trends**:\n",
        "\n",
        "* Manhattan listings are the most expensive, especially for entire homes.\n",
        "\n",
        "* Queens, Bronx, and Staten Island are more affordable.\n",
        "\n",
        "* Luxury listings ($200+) have fewer reviews.\n",
        "\n",
        "**Availability Patterns**:\n",
        "\n",
        "* Many listings have low availability, suggesting they are rarely rented.\n",
        "\n",
        "* Shared rooms have higher availability.\n",
        "\n",
        "* High-review listings are often budget-friendly.\n"
      ],
      "metadata": {
        "id": "Fjb1IsQkh3yE"
      }
    },
    {
      "cell_type": "markdown",
      "source": [
        "### ***Hurrah! You have successfully completed your EDA Capstone Project !!!***"
      ],
      "metadata": {
        "id": "gIfDvo9L0UH2"
      }
    }
  ]
}